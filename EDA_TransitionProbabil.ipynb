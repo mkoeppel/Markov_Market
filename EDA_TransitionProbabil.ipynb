{
 "cells": [
  {
   "cell_type": "markdown",
   "metadata": {},
   "source": [
    "## Project Week8 Markov chain - Exploratory Data Analysis\n",
    "\n",
    "* We have anonymously tracked the movement of all DOODL customers during a five-day week. \n",
    "* In the following files you find tabular data indicating where customers spent their time. "
   ]
  },
  {
   "cell_type": "markdown",
   "metadata": {},
   "source": [
    "Our sales department is interested in a summary of the collected data. Please generate a report including numbers and diagrams. Note that your audience are not data scientists, so take care to prepare insights that are as clear as possible. We are interested in the following:\n",
    "1. Calculate the total number of customers in each section\n",
    "2. Calculate the total number of customers in each section over time \\\n",
    "   Display the number of customers at checkout over time\n",
    "3. Calculate the time each customer spent in the market\n",
    "4. Our business managers think that the first section customers visit follows a different pattern than the following ones. Plot the distribution of customers of their first visited section versus following sections (treat all sections visited after the first as “following”).\n",
    "5. Find out what the revenues per section are, which is the most profitable section\n",
    "6. calculate transition probability matrix"
   ]
  },
  {
   "cell_type": "code",
   "execution_count": 1,
   "metadata": {},
   "outputs": [],
   "source": [
    "import pandas as pd\n",
    "import numpy as np\n",
    "import datetime as dt\n",
    "import matplotlib.pyplot as plt\n",
    "import seaborn as sns\n",
    "from datetime import datetime, date"
   ]
  },
  {
   "cell_type": "code",
   "execution_count": 257,
   "metadata": {},
   "outputs": [],
   "source": [
    "def day_processing(df):\n",
    "    \"\"\"\n",
    "    generates pandas datetime information and splits column into hour, day, date\n",
    "    \"\"\"\n",
    "    df['datetime'] = pd.to_datetime(df['timestamp'])\n",
    "    df['time'] = df['datetime'].dt.time\n",
    "    df['hour'] = df['datetime'].dt.hour\n",
    "    df['day'] = df['datetime'].dt.weekday\n",
    "    df['date'] = df['datetime'].dt.date\n",
    "    df.set_index('datetime', inplace=True)\n",
    "    return day"
   ]
  },
  {
   "cell_type": "code",
   "execution_count": 255,
   "metadata": {},
   "outputs": [],
   "source": [
    "def fill_minutes(df):\n",
    "    \"\"\"\n",
    "    generates a minute-wise information for all customers and also their order of visits\n",
    "    \"\"\"\n",
    "    df = df.groupby('customer_no').resample('1T').ffill()\n",
    "    df.drop(columns = 'customer_no', inplace = True)\n",
    "    df.reset_index(inplace = True)\n",
    "    df['before'] = df.groupby(['customer_no'])['location'].shift(1)\n",
    "    return df"
   ]
  },
  {
   "cell_type": "code",
   "execution_count": 256,
   "metadata": {},
   "outputs": [],
   "source": [
    "mon = pd.read_csv('data/monday.csv', sep=';', parse_dates=True)\n",
    "tue = pd.read_csv('data/tuesday.csv', sep=';', parse_dates=True)\n",
    "wed = pd.read_csv('data/wednesday.csv', sep=';', parse_dates=True)\n",
    "thu = pd.read_csv('data/thursday.csv', sep=';', parse_dates=True)\n",
    "fri = pd.read_csv('data/friday.csv', sep=';', parse_dates=True)"
   ]
  },
  {
   "cell_type": "code",
   "execution_count": 258,
   "metadata": {},
   "outputs": [],
   "source": [
    "days = [mon, tue, wed, thu, fri]"
   ]
  },
  {
   "cell_type": "code",
   "execution_count": 259,
   "metadata": {},
   "outputs": [],
   "source": [
    "for day in days:\n",
    "    day_processing(day)"
   ]
  },
  {
   "cell_type": "code",
   "execution_count": 261,
   "metadata": {},
   "outputs": [
    {
     "data": {
      "text/html": [
       "<div>\n",
       "<style scoped>\n",
       "    .dataframe tbody tr th:only-of-type {\n",
       "        vertical-align: middle;\n",
       "    }\n",
       "\n",
       "    .dataframe tbody tr th {\n",
       "        vertical-align: top;\n",
       "    }\n",
       "\n",
       "    .dataframe thead th {\n",
       "        text-align: right;\n",
       "    }\n",
       "</style>\n",
       "<table border=\"1\" class=\"dataframe\">\n",
       "  <thead>\n",
       "    <tr style=\"text-align: right;\">\n",
       "      <th></th>\n",
       "      <th>timestamp</th>\n",
       "      <th>customer_no</th>\n",
       "      <th>location</th>\n",
       "      <th>time</th>\n",
       "      <th>hour</th>\n",
       "      <th>day</th>\n",
       "      <th>date</th>\n",
       "    </tr>\n",
       "    <tr>\n",
       "      <th>datetime</th>\n",
       "      <th></th>\n",
       "      <th></th>\n",
       "      <th></th>\n",
       "      <th></th>\n",
       "      <th></th>\n",
       "      <th></th>\n",
       "      <th></th>\n",
       "    </tr>\n",
       "  </thead>\n",
       "  <tbody>\n",
       "    <tr>\n",
       "      <th>2019-09-02 07:03:00</th>\n",
       "      <td>2019-09-02 07:03:00</td>\n",
       "      <td>1</td>\n",
       "      <td>dairy</td>\n",
       "      <td>07:03:00</td>\n",
       "      <td>7</td>\n",
       "      <td>0</td>\n",
       "      <td>2019-09-02</td>\n",
       "    </tr>\n",
       "    <tr>\n",
       "      <th>2019-09-02 07:03:00</th>\n",
       "      <td>2019-09-02 07:03:00</td>\n",
       "      <td>2</td>\n",
       "      <td>dairy</td>\n",
       "      <td>07:03:00</td>\n",
       "      <td>7</td>\n",
       "      <td>0</td>\n",
       "      <td>2019-09-02</td>\n",
       "    </tr>\n",
       "    <tr>\n",
       "      <th>2019-09-02 07:04:00</th>\n",
       "      <td>2019-09-02 07:04:00</td>\n",
       "      <td>3</td>\n",
       "      <td>dairy</td>\n",
       "      <td>07:04:00</td>\n",
       "      <td>7</td>\n",
       "      <td>0</td>\n",
       "      <td>2019-09-02</td>\n",
       "    </tr>\n",
       "    <tr>\n",
       "      <th>2019-09-02 07:04:00</th>\n",
       "      <td>2019-09-02 07:04:00</td>\n",
       "      <td>4</td>\n",
       "      <td>dairy</td>\n",
       "      <td>07:04:00</td>\n",
       "      <td>7</td>\n",
       "      <td>0</td>\n",
       "      <td>2019-09-02</td>\n",
       "    </tr>\n",
       "    <tr>\n",
       "      <th>2019-09-02 07:04:00</th>\n",
       "      <td>2019-09-02 07:04:00</td>\n",
       "      <td>5</td>\n",
       "      <td>spices</td>\n",
       "      <td>07:04:00</td>\n",
       "      <td>7</td>\n",
       "      <td>0</td>\n",
       "      <td>2019-09-02</td>\n",
       "    </tr>\n",
       "  </tbody>\n",
       "</table>\n",
       "</div>"
      ],
      "text/plain": [
       "                               timestamp  customer_no location      time  \\\n",
       "datetime                                                                   \n",
       "2019-09-02 07:03:00  2019-09-02 07:03:00            1    dairy  07:03:00   \n",
       "2019-09-02 07:03:00  2019-09-02 07:03:00            2    dairy  07:03:00   \n",
       "2019-09-02 07:04:00  2019-09-02 07:04:00            3    dairy  07:04:00   \n",
       "2019-09-02 07:04:00  2019-09-02 07:04:00            4    dairy  07:04:00   \n",
       "2019-09-02 07:04:00  2019-09-02 07:04:00            5   spices  07:04:00   \n",
       "\n",
       "                     hour  day        date  \n",
       "datetime                                    \n",
       "2019-09-02 07:03:00     7    0  2019-09-02  \n",
       "2019-09-02 07:03:00     7    0  2019-09-02  \n",
       "2019-09-02 07:04:00     7    0  2019-09-02  \n",
       "2019-09-02 07:04:00     7    0  2019-09-02  \n",
       "2019-09-02 07:04:00     7    0  2019-09-02  "
      ]
     },
     "execution_count": 261,
     "metadata": {},
     "output_type": "execute_result"
    }
   ],
   "source": [
    "# One complete dataframe:\n",
    "df = pd.concat(days)"
   ]
  },
  {
   "cell_type": "markdown",
   "metadata": {},
   "source": [
    "## 1. Calculate the total number of customers in each section"
   ]
  },
  {
   "cell_type": "code",
   "execution_count": 262,
   "metadata": {},
   "outputs": [
    {
     "data": {
      "text/plain": [
       "Text(0.5, 1.0, 'Daily average of customers in each section')"
      ]
     },
     "execution_count": 262,
     "metadata": {},
     "output_type": "execute_result"
    },
    {
     "data": {
      "image/png": "[encoded data removed]",
      "text/plain": [
       "<Figure size 864x576 with 1 Axes>"
      ]
     },
     "metadata": {},
     "output_type": "display_data"
    }
   ],
   "source": [
    "plt.figure(figsize=(12,8))\n",
    "total_cust = pd.DataFrame(df.groupby(['location', 'date']).count()['customer_no'])\n",
    "total_cust.reset_index(inplace = True)\n",
    "sns.barplot(data = total_cust, x = 'location', y = 'customer_no')\n",
    "plt.title('Daily average of customers in each section')"
   ]
  },
  {
   "cell_type": "markdown",
   "metadata": {},
   "source": [
    "## 2. Calculate the total number of customers in each section over time"
   ]
  },
  {
   "cell_type": "code",
   "execution_count": 71,
   "metadata": {},
   "outputs": [],
   "source": [
    "customers_over_time = pd.DataFrame(df.groupby(['location','hour'])['customer_no'].count())\n",
    "customers_over_time.fillna(0, inplace=True)\n",
    "customers_over_time = pd.DataFrame(customers_over_time)\n",
    "customers_over_time.reset_index(inplace=True)"
   ]
  },
  {
   "cell_type": "code",
   "execution_count": 73,
   "metadata": {},
   "outputs": [
    {
     "data": {
      "text/plain": [
       "Text(0.5, 1.0, 'customer distribution throughout the day')"
      ]
     },
     "execution_count": 73,
     "metadata": {},
     "output_type": "execute_result"
    },
    {
     "data": {
      "image/png": "[encoded data removed]",
      "text/plain": [
       "<Figure size 1152x576 with 1 Axes>"
      ]
     },
     "metadata": {},
     "output_type": "display_data"
    }
   ],
   "source": [
    "plt.figure(figsize=(16,8))\n",
    "sns.set(style='white')\n",
    "sns.set_palette('husl')\n",
    "ax = sns.lineplot(x='hour', y='customer_no', hue='location', data=customers_over_time)\n",
    "ax.set(xlabel='time of the day [h]', ylabel='number of customers')\n",
    "plt.title('customer distribution throughout the day')"
   ]
  },
  {
   "cell_type": "markdown",
   "metadata": {},
   "source": [
    "## 3. Calculate the time each customer spent in the market"
   ]
  },
  {
   "cell_type": "code",
   "execution_count": 287,
   "metadata": {},
   "outputs": [],
   "source": [
    "df.reset_index(inplace = True)"
   ]
  },
  {
   "cell_type": "code",
   "execution_count": 294,
   "metadata": {},
   "outputs": [
    {
     "data": {
      "text/html": [
       "<div>\n",
       "<style scoped>\n",
       "    .dataframe tbody tr th:only-of-type {\n",
       "        vertical-align: middle;\n",
       "    }\n",
       "\n",
       "    .dataframe tbody tr th {\n",
       "        vertical-align: top;\n",
       "    }\n",
       "\n",
       "    .dataframe thead th {\n",
       "        text-align: right;\n",
       "    }\n",
       "</style>\n",
       "<table border=\"1\" class=\"dataframe\">\n",
       "  <thead>\n",
       "    <tr style=\"text-align: right;\">\n",
       "      <th></th>\n",
       "      <th>day</th>\n",
       "      <th>customer_no</th>\n",
       "      <th>datetime</th>\n",
       "    </tr>\n",
       "  </thead>\n",
       "  <tbody>\n",
       "    <tr>\n",
       "      <th>0</th>\n",
       "      <td>0</td>\n",
       "      <td>1</td>\n",
       "      <td>00:02:00</td>\n",
       "    </tr>\n",
       "    <tr>\n",
       "      <th>1</th>\n",
       "      <td>0</td>\n",
       "      <td>2</td>\n",
       "      <td>00:03:00</td>\n",
       "    </tr>\n",
       "  </tbody>\n",
       "</table>\n",
       "</div>"
      ],
      "text/plain": [
       "   day  customer_no datetime\n",
       "0    0            1 00:02:00\n",
       "1    0            2 00:03:00"
      ]
     },
     "execution_count": 294,
     "metadata": {},
     "output_type": "execute_result"
    }
   ],
   "source": [
    "shopping_time = pd.DataFrame((df.groupby(['day', 'customer_no'])['datetime'].max())-(df.groupby(['day','customer_no'])['datetime'].min()))\n",
    "shopping_time.reset_index(inplace=True)\n",
    "shopping_time = shopping_time[shopping_time.datetime != '00:00:00']"
   ]
  },
  {
   "cell_type": "code",
   "execution_count": 297,
   "metadata": {},
   "outputs": [
    {
     "name": "stdout",
     "output_type": "stream",
     "text": [
      " the average shopping time in the market is 0 days 00:06:14.862829\n"
     ]
    }
   ],
   "source": [
    "average_shopping_time = shopping_time['datetime'].mean()\n",
    "print(f' the average shopping time in the market is {average_shopping_time}')"
   ]
  },
  {
   "cell_type": "code",
   "execution_count": 298,
   "metadata": {},
   "outputs": [
    {
     "data": {
      "text/plain": [
       "Text(0.5, 1.0, 'shopping time in minutes')"
      ]
     },
     "execution_count": 298,
     "metadata": {},
     "output_type": "execute_result"
    },
    {
     "data": {
      "image/png": "[encoded data removed]",
      "text/plain": [
       "<Figure size 864x432 with 1 Axes>"
      ]
     },
     "metadata": {},
     "output_type": "display_data"
    }
   ],
   "source": [
    "plt.figure(figsize=(12,6))\n",
    "shopping_time['datetime'].value_counts().hist(bins = 20)\n",
    "plt.xlabel('time [min]')\n",
    "plt.ylabel('number of customers')\n",
    "plt.title('shopping time in minutes')"
   ]
  },
  {
   "cell_type": "code",
   "execution_count": 25,
   "metadata": {},
   "outputs": [
    {
     "data": {
      "text/plain": [
       "[(-1, 1500)]"
      ]
     },
     "execution_count": 25,
     "metadata": {},
     "output_type": "execute_result"
    },
    {
     "data": {
      "image/png": "[encoded data removed]",
      "text/plain": [
       "<Figure size 720x576 with 1 Axes>"
      ]
     },
     "metadata": {},
     "output_type": "display_data"
    }
   ],
   "source": [
    "# Histogram using seaborn:\n",
    "plt.figure(figsize=(10,8))\n",
    "sns.set(color_codes=True)\n",
    "sns.set(style='white', palette='husl')\n",
    "ax = sns.distplot(cust_present['customer_no'], hist=True, bins=20, kde=False) #kernel density estimation\n",
    "ax.set(xlabel='duration [min]', ylabel='# of customers')\n",
    "ax.set(xlim=(-1, 1500))"
   ]
  },
  {
   "cell_type": "markdown",
   "metadata": {},
   "source": [
    "## 4. Analyze if the first section that customers visit follows a different pattern than the following ones -> do customers spend more time in the first section they visit?\n",
    "\n",
    "* Plot the distribution of customers of their first visited section versus following sections (treat all sections visited after the first as “following”)"
   ]
  },
  {
   "cell_type": "code",
   "execution_count": 299,
   "metadata": {},
   "outputs": [],
   "source": [
    "mon = fill_minutes(mon)\n",
    "tue = fill_minutes(tue)\n",
    "wed = fill_minutes(wed)\n",
    "thu = fill_minutes(thu)\n",
    "fri = fill_minutes(fri)"
   ]
  },
  {
   "cell_type": "code",
   "execution_count": 327,
   "metadata": {},
   "outputs": [],
   "source": [
    "days = [mon, tue, wed, thu, fri]\n",
    "df2 = pd.concat(days)"
   ]
  },
  {
   "cell_type": "code",
   "execution_count": 349,
   "metadata": {},
   "outputs": [
    {
     "data": {
      "text/plain": [
       "Text(0.5, 1.0, 'time spend in different locations, depending on previous location')"
      ]
     },
     "execution_count": 349,
     "metadata": {},
     "output_type": "execute_result"
    },
    {
     "data": {
      "image/png": "[encoded data removed]",
      "text/plain": [
       "<Figure size 864x432 with 1 Axes>"
      ]
     },
     "metadata": {},
     "output_type": "display_data"
    }
   ],
   "source": [
    "plt.figure(figsize = (12,6))\n",
    "locations = df2.fillna('entrance').groupby(['location', 'before'])[['time']].count() #number of rows = minutes\n",
    "locations.reset_index(inplace = True)\n",
    "sns.barplot(x = 'location', y = 'time', hue = 'before', data = locations)\n",
    "plt.ylabel('absolute time spend [minutes]')\n",
    "plt.xlabel('current location')\n",
    "plt.title('time spend in different locations, depending on previous location')"
   ]
  },
  {
   "cell_type": "markdown",
   "metadata": {},
   "source": [
    "## 5. Estimate the revenue: which is the most profitable section?"
   ]
  },
  {
   "cell_type": "code",
   "execution_count": 49,
   "metadata": {},
   "outputs": [],
   "source": [
    "#revenue/minute in euros:\n",
    "\n",
    "revenue = {'fruit':4, 'spices':3, 'dairy':5, 'drinks':6}"
   ]
  },
  {
   "cell_type": "code",
   "execution_count": 50,
   "metadata": {},
   "outputs": [],
   "source": [
    "arrival2 = pd.DataFrame(df.groupby(['day', 'location', 'customer_no'])['timestamp'].min())\n",
    "departure2 = pd.DataFrame(df.groupby(['day', 'location', 'customer_no'])['timestamp'].max())"
   ]
  },
  {
   "cell_type": "code",
   "execution_count": 51,
   "metadata": {},
   "outputs": [
    {
     "data": {
      "text/html": [
       "<div>\n",
       "<style scoped>\n",
       "    .dataframe tbody tr th:only-of-type {\n",
       "        vertical-align: middle;\n",
       "    }\n",
       "\n",
       "    .dataframe tbody tr th {\n",
       "        vertical-align: top;\n",
       "    }\n",
       "\n",
       "    .dataframe thead th {\n",
       "        text-align: right;\n",
       "    }\n",
       "</style>\n",
       "<table border=\"1\" class=\"dataframe\">\n",
       "  <thead>\n",
       "    <tr style=\"text-align: right;\">\n",
       "      <th></th>\n",
       "      <th>day</th>\n",
       "      <th>location</th>\n",
       "      <th>customer_no</th>\n",
       "      <th>timestamp</th>\n",
       "    </tr>\n",
       "  </thead>\n",
       "  <tbody>\n",
       "    <tr>\n",
       "      <th>21618</th>\n",
       "      <td>4</td>\n",
       "      <td>spices</td>\n",
       "      <td>1372</td>\n",
       "      <td>00:17:00</td>\n",
       "    </tr>\n",
       "    <tr>\n",
       "      <th>21633</th>\n",
       "      <td>4</td>\n",
       "      <td>spices</td>\n",
       "      <td>1399</td>\n",
       "      <td>00:11:00</td>\n",
       "    </tr>\n",
       "    <tr>\n",
       "      <th>21635</th>\n",
       "      <td>4</td>\n",
       "      <td>spices</td>\n",
       "      <td>1404</td>\n",
       "      <td>00:10:00</td>\n",
       "    </tr>\n",
       "    <tr>\n",
       "      <th>21640</th>\n",
       "      <td>4</td>\n",
       "      <td>spices</td>\n",
       "      <td>1420</td>\n",
       "      <td>00:11:00</td>\n",
       "    </tr>\n",
       "    <tr>\n",
       "      <th>21643</th>\n",
       "      <td>4</td>\n",
       "      <td>spices</td>\n",
       "      <td>1429</td>\n",
       "      <td>00:05:00</td>\n",
       "    </tr>\n",
       "    <tr>\n",
       "      <th>21646</th>\n",
       "      <td>4</td>\n",
       "      <td>spices</td>\n",
       "      <td>1435</td>\n",
       "      <td>00:14:00</td>\n",
       "    </tr>\n",
       "    <tr>\n",
       "      <th>21657</th>\n",
       "      <td>4</td>\n",
       "      <td>spices</td>\n",
       "      <td>1456</td>\n",
       "      <td>00:06:00</td>\n",
       "    </tr>\n",
       "    <tr>\n",
       "      <th>21660</th>\n",
       "      <td>4</td>\n",
       "      <td>spices</td>\n",
       "      <td>1464</td>\n",
       "      <td>00:06:00</td>\n",
       "    </tr>\n",
       "    <tr>\n",
       "      <th>21663</th>\n",
       "      <td>4</td>\n",
       "      <td>spices</td>\n",
       "      <td>1472</td>\n",
       "      <td>00:03:00</td>\n",
       "    </tr>\n",
       "    <tr>\n",
       "      <th>21664</th>\n",
       "      <td>4</td>\n",
       "      <td>spices</td>\n",
       "      <td>1477</td>\n",
       "      <td>00:04:00</td>\n",
       "    </tr>\n",
       "  </tbody>\n",
       "</table>\n",
       "</div>"
      ],
      "text/plain": [
       "       day location  customer_no timestamp\n",
       "21618    4   spices         1372  00:17:00\n",
       "21633    4   spices         1399  00:11:00\n",
       "21635    4   spices         1404  00:10:00\n",
       "21640    4   spices         1420  00:11:00\n",
       "21643    4   spices         1429  00:05:00\n",
       "21646    4   spices         1435  00:14:00\n",
       "21657    4   spices         1456  00:06:00\n",
       "21660    4   spices         1464  00:06:00\n",
       "21663    4   spices         1472  00:03:00\n",
       "21664    4   spices         1477  00:04:00"
      ]
     },
     "execution_count": 51,
     "metadata": {},
     "output_type": "execute_result"
    }
   ],
   "source": [
    "shopping_time2 = pd.DataFrame(departure2['timestamp'] - arrival2['timestamp'])\n",
    "shopping_time2.reset_index(inplace=True)\n",
    "shopping_time2 = shopping_time2[shopping_time2.timestamp != '00:00:00']\n",
    "shopping_time2.tail(10)"
   ]
  },
  {
   "cell_type": "code",
   "execution_count": 52,
   "metadata": {},
   "outputs": [
    {
     "data": {
      "text/html": [
       "<div>\n",
       "<style scoped>\n",
       "    .dataframe tbody tr th:only-of-type {\n",
       "        vertical-align: middle;\n",
       "    }\n",
       "\n",
       "    .dataframe tbody tr th {\n",
       "        vertical-align: top;\n",
       "    }\n",
       "\n",
       "    .dataframe thead th {\n",
       "        text-align: right;\n",
       "    }\n",
       "</style>\n",
       "<table border=\"1\" class=\"dataframe\">\n",
       "  <thead>\n",
       "    <tr style=\"text-align: right;\">\n",
       "      <th></th>\n",
       "      <th>day</th>\n",
       "      <th>location</th>\n",
       "      <th>customer_no</th>\n",
       "      <th>timestamp</th>\n",
       "    </tr>\n",
       "  </thead>\n",
       "  <tbody>\n",
       "    <tr>\n",
       "      <th>1441</th>\n",
       "      <td>0</td>\n",
       "      <td>dairy</td>\n",
       "      <td>6</td>\n",
       "      <td>00:21:00</td>\n",
       "    </tr>\n",
       "    <tr>\n",
       "      <th>1443</th>\n",
       "      <td>0</td>\n",
       "      <td>dairy</td>\n",
       "      <td>13</td>\n",
       "      <td>00:08:00</td>\n",
       "    </tr>\n",
       "    <tr>\n",
       "      <th>1451</th>\n",
       "      <td>0</td>\n",
       "      <td>dairy</td>\n",
       "      <td>33</td>\n",
       "      <td>00:03:00</td>\n",
       "    </tr>\n",
       "    <tr>\n",
       "      <th>1458</th>\n",
       "      <td>0</td>\n",
       "      <td>dairy</td>\n",
       "      <td>42</td>\n",
       "      <td>00:07:00</td>\n",
       "    </tr>\n",
       "    <tr>\n",
       "      <th>1459</th>\n",
       "      <td>0</td>\n",
       "      <td>dairy</td>\n",
       "      <td>43</td>\n",
       "      <td>00:13:00</td>\n",
       "    </tr>\n",
       "    <tr>\n",
       "      <th>...</th>\n",
       "      <td>...</td>\n",
       "      <td>...</td>\n",
       "      <td>...</td>\n",
       "      <td>...</td>\n",
       "    </tr>\n",
       "    <tr>\n",
       "      <th>21646</th>\n",
       "      <td>4</td>\n",
       "      <td>spices</td>\n",
       "      <td>1435</td>\n",
       "      <td>00:14:00</td>\n",
       "    </tr>\n",
       "    <tr>\n",
       "      <th>21657</th>\n",
       "      <td>4</td>\n",
       "      <td>spices</td>\n",
       "      <td>1456</td>\n",
       "      <td>00:06:00</td>\n",
       "    </tr>\n",
       "    <tr>\n",
       "      <th>21660</th>\n",
       "      <td>4</td>\n",
       "      <td>spices</td>\n",
       "      <td>1464</td>\n",
       "      <td>00:06:00</td>\n",
       "    </tr>\n",
       "    <tr>\n",
       "      <th>21663</th>\n",
       "      <td>4</td>\n",
       "      <td>spices</td>\n",
       "      <td>1472</td>\n",
       "      <td>00:03:00</td>\n",
       "    </tr>\n",
       "    <tr>\n",
       "      <th>21664</th>\n",
       "      <td>4</td>\n",
       "      <td>spices</td>\n",
       "      <td>1477</td>\n",
       "      <td>00:04:00</td>\n",
       "    </tr>\n",
       "  </tbody>\n",
       "</table>\n",
       "<p>2605 rows × 4 columns</p>\n",
       "</div>"
      ],
      "text/plain": [
       "       day location  customer_no timestamp\n",
       "1441     0    dairy            6  00:21:00\n",
       "1443     0    dairy           13  00:08:00\n",
       "1451     0    dairy           33  00:03:00\n",
       "1458     0    dairy           42  00:07:00\n",
       "1459     0    dairy           43  00:13:00\n",
       "...    ...      ...          ...       ...\n",
       "21646    4   spices         1435  00:14:00\n",
       "21657    4   spices         1456  00:06:00\n",
       "21660    4   spices         1464  00:06:00\n",
       "21663    4   spices         1472  00:03:00\n",
       "21664    4   spices         1477  00:04:00\n",
       "\n",
       "[2605 rows x 4 columns]"
      ]
     },
     "execution_count": 52,
     "metadata": {},
     "output_type": "execute_result"
    }
   ],
   "source": [
    "shopping_time2.sort_values(by=['location'])\n",
    "shopping_time2"
   ]
  },
  {
   "cell_type": "code",
   "execution_count": 53,
   "metadata": {},
   "outputs": [
    {
     "data": {
      "text/plain": [
       "array(['dairy', 'drinks', 'fruit', 'spices'], dtype=object)"
      ]
     },
     "execution_count": 53,
     "metadata": {},
     "output_type": "execute_result"
    }
   ],
   "source": [
    "shopping_time2['location'].unique()"
   ]
  },
  {
   "cell_type": "code",
   "execution_count": 54,
   "metadata": {},
   "outputs": [
    {
     "data": {
      "text/html": [
       "<div>\n",
       "<style scoped>\n",
       "    .dataframe tbody tr th:only-of-type {\n",
       "        vertical-align: middle;\n",
       "    }\n",
       "\n",
       "    .dataframe tbody tr th {\n",
       "        vertical-align: top;\n",
       "    }\n",
       "\n",
       "    .dataframe thead th {\n",
       "        text-align: right;\n",
       "    }\n",
       "</style>\n",
       "<table border=\"1\" class=\"dataframe\">\n",
       "  <thead>\n",
       "    <tr style=\"text-align: right;\">\n",
       "      <th></th>\n",
       "      <th></th>\n",
       "      <th>timestamp</th>\n",
       "    </tr>\n",
       "    <tr>\n",
       "      <th>day</th>\n",
       "      <th>location</th>\n",
       "      <th></th>\n",
       "    </tr>\n",
       "  </thead>\n",
       "  <tbody>\n",
       "    <tr>\n",
       "      <th rowspan=\"4\" valign=\"top\">0</th>\n",
       "      <th>dairy</th>\n",
       "      <td>22:54:00</td>\n",
       "    </tr>\n",
       "    <tr>\n",
       "      <th>drinks</th>\n",
       "      <td>14:28:00</td>\n",
       "    </tr>\n",
       "    <tr>\n",
       "      <th>fruit</th>\n",
       "      <td>21:16:00</td>\n",
       "    </tr>\n",
       "    <tr>\n",
       "      <th>spices</th>\n",
       "      <td>17:51:00</td>\n",
       "    </tr>\n",
       "    <tr>\n",
       "      <th rowspan=\"4\" valign=\"top\">1</th>\n",
       "      <th>dairy</th>\n",
       "      <td>18:18:00</td>\n",
       "    </tr>\n",
       "    <tr>\n",
       "      <th>drinks</th>\n",
       "      <td>12:08:00</td>\n",
       "    </tr>\n",
       "    <tr>\n",
       "      <th>fruit</th>\n",
       "      <td>17:27:00</td>\n",
       "    </tr>\n",
       "    <tr>\n",
       "      <th>spices</th>\n",
       "      <td>15:17:00</td>\n",
       "    </tr>\n",
       "    <tr>\n",
       "      <th rowspan=\"4\" valign=\"top\">2</th>\n",
       "      <th>dairy</th>\n",
       "      <td>20:24:00</td>\n",
       "    </tr>\n",
       "    <tr>\n",
       "      <th>drinks</th>\n",
       "      <td>11:43:00</td>\n",
       "    </tr>\n",
       "    <tr>\n",
       "      <th>fruit</th>\n",
       "      <td>19:16:00</td>\n",
       "    </tr>\n",
       "    <tr>\n",
       "      <th>spices</th>\n",
       "      <td>17:39:00</td>\n",
       "    </tr>\n",
       "    <tr>\n",
       "      <th rowspan=\"4\" valign=\"top\">3</th>\n",
       "      <th>dairy</th>\n",
       "      <td>23:37:00</td>\n",
       "    </tr>\n",
       "    <tr>\n",
       "      <th>drinks</th>\n",
       "      <td>16:03:00</td>\n",
       "    </tr>\n",
       "    <tr>\n",
       "      <th>fruit</th>\n",
       "      <td>21:23:00</td>\n",
       "    </tr>\n",
       "    <tr>\n",
       "      <th>spices</th>\n",
       "      <td>21:11:00</td>\n",
       "    </tr>\n",
       "    <tr>\n",
       "      <th rowspan=\"4\" valign=\"top\">4</th>\n",
       "      <th>dairy</th>\n",
       "      <td>21:49:00</td>\n",
       "    </tr>\n",
       "    <tr>\n",
       "      <th>drinks</th>\n",
       "      <td>14:26:00</td>\n",
       "    </tr>\n",
       "    <tr>\n",
       "      <th>fruit</th>\n",
       "      <td>23:02:00</td>\n",
       "    </tr>\n",
       "    <tr>\n",
       "      <th>spices</th>\n",
       "      <td>15:45:00</td>\n",
       "    </tr>\n",
       "  </tbody>\n",
       "</table>\n",
       "</div>"
      ],
      "text/plain": [
       "             timestamp\n",
       "day location          \n",
       "0   dairy     22:54:00\n",
       "    drinks    14:28:00\n",
       "    fruit     21:16:00\n",
       "    spices    17:51:00\n",
       "1   dairy     18:18:00\n",
       "    drinks    12:08:00\n",
       "    fruit     17:27:00\n",
       "    spices    15:17:00\n",
       "2   dairy     20:24:00\n",
       "    drinks    11:43:00\n",
       "    fruit     19:16:00\n",
       "    spices    17:39:00\n",
       "3   dairy     23:37:00\n",
       "    drinks    16:03:00\n",
       "    fruit     21:23:00\n",
       "    spices    21:11:00\n",
       "4   dairy     21:49:00\n",
       "    drinks    14:26:00\n",
       "    fruit     23:02:00\n",
       "    spices    15:45:00"
      ]
     },
     "execution_count": 54,
     "metadata": {},
     "output_type": "execute_result"
    }
   ],
   "source": [
    "shopping_time3 = pd.DataFrame(shopping_time2.groupby(['day','location'])['timestamp'].sum())\n",
    "shopping_time3"
   ]
  },
  {
   "cell_type": "code",
   "execution_count": 55,
   "metadata": {},
   "outputs": [
    {
     "data": {
      "text/html": [
       "<div>\n",
       "<style scoped>\n",
       "    .dataframe tbody tr th:only-of-type {\n",
       "        vertical-align: middle;\n",
       "    }\n",
       "\n",
       "    .dataframe tbody tr th {\n",
       "        vertical-align: top;\n",
       "    }\n",
       "\n",
       "    .dataframe thead tr th {\n",
       "        text-align: left;\n",
       "    }\n",
       "\n",
       "    .dataframe thead tr:last-of-type th {\n",
       "        text-align: right;\n",
       "    }\n",
       "</style>\n",
       "<table border=\"1\" class=\"dataframe\">\n",
       "  <thead>\n",
       "    <tr>\n",
       "      <th></th>\n",
       "      <th colspan=\"5\" halign=\"left\">timestamp</th>\n",
       "    </tr>\n",
       "    <tr>\n",
       "      <th>day</th>\n",
       "      <th>0</th>\n",
       "      <th>1</th>\n",
       "      <th>2</th>\n",
       "      <th>3</th>\n",
       "      <th>4</th>\n",
       "    </tr>\n",
       "    <tr>\n",
       "      <th>location</th>\n",
       "      <th></th>\n",
       "      <th></th>\n",
       "      <th></th>\n",
       "      <th></th>\n",
       "      <th></th>\n",
       "    </tr>\n",
       "  </thead>\n",
       "  <tbody>\n",
       "    <tr>\n",
       "      <th>dairy</th>\n",
       "      <td>22:54:00</td>\n",
       "      <td>18:18:00</td>\n",
       "      <td>20:24:00</td>\n",
       "      <td>23:37:00</td>\n",
       "      <td>21:49:00</td>\n",
       "    </tr>\n",
       "    <tr>\n",
       "      <th>drinks</th>\n",
       "      <td>14:28:00</td>\n",
       "      <td>12:08:00</td>\n",
       "      <td>11:43:00</td>\n",
       "      <td>16:03:00</td>\n",
       "      <td>14:26:00</td>\n",
       "    </tr>\n",
       "    <tr>\n",
       "      <th>fruit</th>\n",
       "      <td>21:16:00</td>\n",
       "      <td>17:27:00</td>\n",
       "      <td>19:16:00</td>\n",
       "      <td>21:23:00</td>\n",
       "      <td>23:02:00</td>\n",
       "    </tr>\n",
       "    <tr>\n",
       "      <th>spices</th>\n",
       "      <td>17:51:00</td>\n",
       "      <td>15:17:00</td>\n",
       "      <td>17:39:00</td>\n",
       "      <td>21:11:00</td>\n",
       "      <td>15:45:00</td>\n",
       "    </tr>\n",
       "  </tbody>\n",
       "</table>\n",
       "</div>"
      ],
      "text/plain": [
       "         timestamp                                    \n",
       "day              0        1        2        3        4\n",
       "location                                              \n",
       "dairy     22:54:00 18:18:00 20:24:00 23:37:00 21:49:00\n",
       "drinks    14:28:00 12:08:00 11:43:00 16:03:00 14:26:00\n",
       "fruit     21:16:00 17:27:00 19:16:00 21:23:00 23:02:00\n",
       "spices    17:51:00 15:17:00 17:39:00 21:11:00 15:45:00"
      ]
     },
     "execution_count": 55,
     "metadata": {},
     "output_type": "execute_result"
    }
   ],
   "source": [
    "#shopping_time3 = shopping_time3.stack('day')\n",
    "shopping_time3 = shopping_time3.unstack('day')\n",
    "shopping_time3.head()"
   ]
  },
  {
   "cell_type": "code",
   "execution_count": 56,
   "metadata": {},
   "outputs": [
    {
     "data": {
      "text/html": [
       "<div>\n",
       "<style scoped>\n",
       "    .dataframe tbody tr th:only-of-type {\n",
       "        vertical-align: middle;\n",
       "    }\n",
       "\n",
       "    .dataframe tbody tr th {\n",
       "        vertical-align: top;\n",
       "    }\n",
       "\n",
       "    .dataframe thead tr th {\n",
       "        text-align: left;\n",
       "    }\n",
       "\n",
       "    .dataframe thead tr:last-of-type th {\n",
       "        text-align: right;\n",
       "    }\n",
       "</style>\n",
       "<table border=\"1\" class=\"dataframe\">\n",
       "  <thead>\n",
       "    <tr>\n",
       "      <th></th>\n",
       "      <th colspan=\"5\" halign=\"left\">timestamp</th>\n",
       "      <th>mean</th>\n",
       "    </tr>\n",
       "    <tr>\n",
       "      <th>day</th>\n",
       "      <th>0</th>\n",
       "      <th>1</th>\n",
       "      <th>2</th>\n",
       "      <th>3</th>\n",
       "      <th>4</th>\n",
       "      <th></th>\n",
       "    </tr>\n",
       "    <tr>\n",
       "      <th>location</th>\n",
       "      <th></th>\n",
       "      <th></th>\n",
       "      <th></th>\n",
       "      <th></th>\n",
       "      <th></th>\n",
       "      <th></th>\n",
       "    </tr>\n",
       "  </thead>\n",
       "  <tbody>\n",
       "    <tr>\n",
       "      <th>dairy</th>\n",
       "      <td>22:54:00</td>\n",
       "      <td>18:18:00</td>\n",
       "      <td>20:24:00</td>\n",
       "      <td>23:37:00</td>\n",
       "      <td>21:49:00</td>\n",
       "      <td>21:24:24</td>\n",
       "    </tr>\n",
       "    <tr>\n",
       "      <th>drinks</th>\n",
       "      <td>14:28:00</td>\n",
       "      <td>12:08:00</td>\n",
       "      <td>11:43:00</td>\n",
       "      <td>16:03:00</td>\n",
       "      <td>14:26:00</td>\n",
       "      <td>13:45:36</td>\n",
       "    </tr>\n",
       "    <tr>\n",
       "      <th>fruit</th>\n",
       "      <td>21:16:00</td>\n",
       "      <td>17:27:00</td>\n",
       "      <td>19:16:00</td>\n",
       "      <td>21:23:00</td>\n",
       "      <td>23:02:00</td>\n",
       "      <td>20:28:48</td>\n",
       "    </tr>\n",
       "    <tr>\n",
       "      <th>spices</th>\n",
       "      <td>17:51:00</td>\n",
       "      <td>15:17:00</td>\n",
       "      <td>17:39:00</td>\n",
       "      <td>21:11:00</td>\n",
       "      <td>15:45:00</td>\n",
       "      <td>17:32:36</td>\n",
       "    </tr>\n",
       "  </tbody>\n",
       "</table>\n",
       "</div>"
      ],
      "text/plain": [
       "         timestamp                                         mean\n",
       "day              0        1        2        3        4         \n",
       "location                                                       \n",
       "dairy     22:54:00 18:18:00 20:24:00 23:37:00 21:49:00 21:24:24\n",
       "drinks    14:28:00 12:08:00 11:43:00 16:03:00 14:26:00 13:45:36\n",
       "fruit     21:16:00 17:27:00 19:16:00 21:23:00 23:02:00 20:28:48\n",
       "spices    17:51:00 15:17:00 17:39:00 21:11:00 15:45:00 17:32:36"
      ]
     },
     "execution_count": 56,
     "metadata": {},
     "output_type": "execute_result"
    }
   ],
   "source": [
    "shopping_time3['mean'] = shopping_time3.mean(axis=1)\n",
    "shopping_time3.head()"
   ]
  },
  {
   "cell_type": "code",
   "execution_count": 57,
   "metadata": {},
   "outputs": [
    {
     "data": {
      "text/html": [
       "<div>\n",
       "<style scoped>\n",
       "    .dataframe tbody tr th:only-of-type {\n",
       "        vertical-align: middle;\n",
       "    }\n",
       "\n",
       "    .dataframe tbody tr th {\n",
       "        vertical-align: top;\n",
       "    }\n",
       "\n",
       "    .dataframe thead tr th {\n",
       "        text-align: left;\n",
       "    }\n",
       "\n",
       "    .dataframe thead tr:last-of-type th {\n",
       "        text-align: right;\n",
       "    }\n",
       "</style>\n",
       "<table border=\"1\" class=\"dataframe\">\n",
       "  <thead>\n",
       "    <tr>\n",
       "      <th></th>\n",
       "      <th colspan=\"5\" halign=\"left\">timestamp</th>\n",
       "      <th>mean</th>\n",
       "    </tr>\n",
       "    <tr>\n",
       "      <th>day</th>\n",
       "      <th>0</th>\n",
       "      <th>1</th>\n",
       "      <th>2</th>\n",
       "      <th>3</th>\n",
       "      <th>4</th>\n",
       "      <th></th>\n",
       "    </tr>\n",
       "    <tr>\n",
       "      <th>location</th>\n",
       "      <th></th>\n",
       "      <th></th>\n",
       "      <th></th>\n",
       "      <th></th>\n",
       "      <th></th>\n",
       "      <th></th>\n",
       "    </tr>\n",
       "  </thead>\n",
       "  <tbody>\n",
       "    <tr>\n",
       "      <th>dairy</th>\n",
       "      <td>22:54:00</td>\n",
       "      <td>18:18:00</td>\n",
       "      <td>20:24:00</td>\n",
       "      <td>23:37:00</td>\n",
       "      <td>21:49:00</td>\n",
       "      <td>1284</td>\n",
       "    </tr>\n",
       "    <tr>\n",
       "      <th>drinks</th>\n",
       "      <td>14:28:00</td>\n",
       "      <td>12:08:00</td>\n",
       "      <td>11:43:00</td>\n",
       "      <td>16:03:00</td>\n",
       "      <td>14:26:00</td>\n",
       "      <td>825</td>\n",
       "    </tr>\n",
       "    <tr>\n",
       "      <th>fruit</th>\n",
       "      <td>21:16:00</td>\n",
       "      <td>17:27:00</td>\n",
       "      <td>19:16:00</td>\n",
       "      <td>21:23:00</td>\n",
       "      <td>23:02:00</td>\n",
       "      <td>1228</td>\n",
       "    </tr>\n",
       "    <tr>\n",
       "      <th>spices</th>\n",
       "      <td>17:51:00</td>\n",
       "      <td>15:17:00</td>\n",
       "      <td>17:39:00</td>\n",
       "      <td>21:11:00</td>\n",
       "      <td>15:45:00</td>\n",
       "      <td>1052</td>\n",
       "    </tr>\n",
       "  </tbody>\n",
       "</table>\n",
       "</div>"
      ],
      "text/plain": [
       "         timestamp                                      mean\n",
       "day              0        1        2        3        4      \n",
       "location                                                    \n",
       "dairy     22:54:00 18:18:00 20:24:00 23:37:00 21:49:00  1284\n",
       "drinks    14:28:00 12:08:00 11:43:00 16:03:00 14:26:00   825\n",
       "fruit     21:16:00 17:27:00 19:16:00 21:23:00 23:02:00  1228\n",
       "spices    17:51:00 15:17:00 17:39:00 21:11:00 15:45:00  1052"
      ]
     },
     "execution_count": 57,
     "metadata": {},
     "output_type": "execute_result"
    }
   ],
   "source": [
    "shopping_time3['mean'] = shopping_time3['mean'].dt.seconds.div(60).astype(int)\n",
    "shopping_time3"
   ]
  },
  {
   "cell_type": "code",
   "execution_count": 58,
   "metadata": {},
   "outputs": [
    {
     "data": {
      "text/html": [
       "<div>\n",
       "<style scoped>\n",
       "    .dataframe tbody tr th:only-of-type {\n",
       "        vertical-align: middle;\n",
       "    }\n",
       "\n",
       "    .dataframe tbody tr th {\n",
       "        vertical-align: top;\n",
       "    }\n",
       "\n",
       "    .dataframe thead tr th {\n",
       "        text-align: left;\n",
       "    }\n",
       "\n",
       "    .dataframe thead tr:last-of-type th {\n",
       "        text-align: right;\n",
       "    }\n",
       "</style>\n",
       "<table border=\"1\" class=\"dataframe\">\n",
       "  <thead>\n",
       "    <tr>\n",
       "      <th></th>\n",
       "      <th colspan=\"5\" halign=\"left\">timestamp</th>\n",
       "      <th>mean</th>\n",
       "      <th>revenue</th>\n",
       "    </tr>\n",
       "    <tr>\n",
       "      <th>day</th>\n",
       "      <th>0</th>\n",
       "      <th>1</th>\n",
       "      <th>2</th>\n",
       "      <th>3</th>\n",
       "      <th>4</th>\n",
       "      <th></th>\n",
       "      <th></th>\n",
       "    </tr>\n",
       "    <tr>\n",
       "      <th>location</th>\n",
       "      <th></th>\n",
       "      <th></th>\n",
       "      <th></th>\n",
       "      <th></th>\n",
       "      <th></th>\n",
       "      <th></th>\n",
       "      <th></th>\n",
       "    </tr>\n",
       "  </thead>\n",
       "  <tbody>\n",
       "    <tr>\n",
       "      <th>dairy</th>\n",
       "      <td>22:54:00</td>\n",
       "      <td>18:18:00</td>\n",
       "      <td>20:24:00</td>\n",
       "      <td>23:37:00</td>\n",
       "      <td>21:49:00</td>\n",
       "      <td>1284</td>\n",
       "      <td>5</td>\n",
       "    </tr>\n",
       "    <tr>\n",
       "      <th>drinks</th>\n",
       "      <td>14:28:00</td>\n",
       "      <td>12:08:00</td>\n",
       "      <td>11:43:00</td>\n",
       "      <td>16:03:00</td>\n",
       "      <td>14:26:00</td>\n",
       "      <td>825</td>\n",
       "      <td>6</td>\n",
       "    </tr>\n",
       "    <tr>\n",
       "      <th>fruit</th>\n",
       "      <td>21:16:00</td>\n",
       "      <td>17:27:00</td>\n",
       "      <td>19:16:00</td>\n",
       "      <td>21:23:00</td>\n",
       "      <td>23:02:00</td>\n",
       "      <td>1228</td>\n",
       "      <td>4</td>\n",
       "    </tr>\n",
       "    <tr>\n",
       "      <th>spices</th>\n",
       "      <td>17:51:00</td>\n",
       "      <td>15:17:00</td>\n",
       "      <td>17:39:00</td>\n",
       "      <td>21:11:00</td>\n",
       "      <td>15:45:00</td>\n",
       "      <td>1052</td>\n",
       "      <td>3</td>\n",
       "    </tr>\n",
       "  </tbody>\n",
       "</table>\n",
       "</div>"
      ],
      "text/plain": [
       "         timestamp                                      mean revenue\n",
       "day              0        1        2        3        4              \n",
       "location                                                            \n",
       "dairy     22:54:00 18:18:00 20:24:00 23:37:00 21:49:00  1284       5\n",
       "drinks    14:28:00 12:08:00 11:43:00 16:03:00 14:26:00   825       6\n",
       "fruit     21:16:00 17:27:00 19:16:00 21:23:00 23:02:00  1228       4\n",
       "spices    17:51:00 15:17:00 17:39:00 21:11:00 15:45:00  1052       3"
      ]
     },
     "execution_count": 58,
     "metadata": {},
     "output_type": "execute_result"
    }
   ],
   "source": [
    "shopping_time3['revenue'] = shopping_time3.index.map(revenue)\n",
    "shopping_time3.head()"
   ]
  },
  {
   "cell_type": "code",
   "execution_count": 59,
   "metadata": {},
   "outputs": [
    {
     "data": {
      "text/html": [
       "<div>\n",
       "<style scoped>\n",
       "    .dataframe tbody tr th:only-of-type {\n",
       "        vertical-align: middle;\n",
       "    }\n",
       "\n",
       "    .dataframe tbody tr th {\n",
       "        vertical-align: top;\n",
       "    }\n",
       "\n",
       "    .dataframe thead tr th {\n",
       "        text-align: left;\n",
       "    }\n",
       "\n",
       "    .dataframe thead tr:last-of-type th {\n",
       "        text-align: right;\n",
       "    }\n",
       "</style>\n",
       "<table border=\"1\" class=\"dataframe\">\n",
       "  <thead>\n",
       "    <tr>\n",
       "      <th></th>\n",
       "      <th colspan=\"5\" halign=\"left\">timestamp</th>\n",
       "      <th>mean</th>\n",
       "      <th>revenue</th>\n",
       "      <th>total_revenue</th>\n",
       "    </tr>\n",
       "    <tr>\n",
       "      <th>day</th>\n",
       "      <th>0</th>\n",
       "      <th>1</th>\n",
       "      <th>2</th>\n",
       "      <th>3</th>\n",
       "      <th>4</th>\n",
       "      <th></th>\n",
       "      <th></th>\n",
       "      <th></th>\n",
       "    </tr>\n",
       "    <tr>\n",
       "      <th>location</th>\n",
       "      <th></th>\n",
       "      <th></th>\n",
       "      <th></th>\n",
       "      <th></th>\n",
       "      <th></th>\n",
       "      <th></th>\n",
       "      <th></th>\n",
       "      <th></th>\n",
       "    </tr>\n",
       "  </thead>\n",
       "  <tbody>\n",
       "    <tr>\n",
       "      <th>dairy</th>\n",
       "      <td>22:54:00</td>\n",
       "      <td>18:18:00</td>\n",
       "      <td>20:24:00</td>\n",
       "      <td>23:37:00</td>\n",
       "      <td>21:49:00</td>\n",
       "      <td>1284</td>\n",
       "      <td>5</td>\n",
       "      <td>6420</td>\n",
       "    </tr>\n",
       "    <tr>\n",
       "      <th>drinks</th>\n",
       "      <td>14:28:00</td>\n",
       "      <td>12:08:00</td>\n",
       "      <td>11:43:00</td>\n",
       "      <td>16:03:00</td>\n",
       "      <td>14:26:00</td>\n",
       "      <td>825</td>\n",
       "      <td>6</td>\n",
       "      <td>4950</td>\n",
       "    </tr>\n",
       "    <tr>\n",
       "      <th>fruit</th>\n",
       "      <td>21:16:00</td>\n",
       "      <td>17:27:00</td>\n",
       "      <td>19:16:00</td>\n",
       "      <td>21:23:00</td>\n",
       "      <td>23:02:00</td>\n",
       "      <td>1228</td>\n",
       "      <td>4</td>\n",
       "      <td>4912</td>\n",
       "    </tr>\n",
       "    <tr>\n",
       "      <th>spices</th>\n",
       "      <td>17:51:00</td>\n",
       "      <td>15:17:00</td>\n",
       "      <td>17:39:00</td>\n",
       "      <td>21:11:00</td>\n",
       "      <td>15:45:00</td>\n",
       "      <td>1052</td>\n",
       "      <td>3</td>\n",
       "      <td>3156</td>\n",
       "    </tr>\n",
       "  </tbody>\n",
       "</table>\n",
       "</div>"
      ],
      "text/plain": [
       "         timestamp                                      mean revenue  \\\n",
       "day              0        1        2        3        4                 \n",
       "location                                                               \n",
       "dairy     22:54:00 18:18:00 20:24:00 23:37:00 21:49:00  1284       5   \n",
       "drinks    14:28:00 12:08:00 11:43:00 16:03:00 14:26:00   825       6   \n",
       "fruit     21:16:00 17:27:00 19:16:00 21:23:00 23:02:00  1228       4   \n",
       "spices    17:51:00 15:17:00 17:39:00 21:11:00 15:45:00  1052       3   \n",
       "\n",
       "         total_revenue  \n",
       "day                     \n",
       "location                \n",
       "dairy             6420  \n",
       "drinks            4950  \n",
       "fruit             4912  \n",
       "spices            3156  "
      ]
     },
     "execution_count": 59,
     "metadata": {},
     "output_type": "execute_result"
    }
   ],
   "source": [
    "shopping_time3['total_revenue'] = shopping_time3['mean'] * shopping_time3['revenue']\n",
    "shopping_time3"
   ]
  },
  {
   "cell_type": "code",
   "execution_count": 60,
   "metadata": {},
   "outputs": [
    {
     "data": {
      "text/html": [
       "<div>\n",
       "<style scoped>\n",
       "    .dataframe tbody tr th:only-of-type {\n",
       "        vertical-align: middle;\n",
       "    }\n",
       "\n",
       "    .dataframe tbody tr th {\n",
       "        vertical-align: top;\n",
       "    }\n",
       "\n",
       "    .dataframe thead tr th {\n",
       "        text-align: left;\n",
       "    }\n",
       "\n",
       "    .dataframe thead tr:last-of-type th {\n",
       "        text-align: right;\n",
       "    }\n",
       "</style>\n",
       "<table border=\"1\" class=\"dataframe\">\n",
       "  <thead>\n",
       "    <tr>\n",
       "      <th></th>\n",
       "      <th colspan=\"5\" halign=\"left\">timestamp</th>\n",
       "      <th>mean</th>\n",
       "      <th>revenue</th>\n",
       "      <th>total_revenue</th>\n",
       "    </tr>\n",
       "    <tr>\n",
       "      <th>day</th>\n",
       "      <th>0</th>\n",
       "      <th>1</th>\n",
       "      <th>2</th>\n",
       "      <th>3</th>\n",
       "      <th>4</th>\n",
       "      <th></th>\n",
       "      <th></th>\n",
       "      <th></th>\n",
       "    </tr>\n",
       "    <tr>\n",
       "      <th>location</th>\n",
       "      <th></th>\n",
       "      <th></th>\n",
       "      <th></th>\n",
       "      <th></th>\n",
       "      <th></th>\n",
       "      <th></th>\n",
       "      <th></th>\n",
       "      <th></th>\n",
       "    </tr>\n",
       "  </thead>\n",
       "  <tbody>\n",
       "    <tr>\n",
       "      <th>drinks</th>\n",
       "      <td>14:28:00</td>\n",
       "      <td>12:08:00</td>\n",
       "      <td>11:43:00</td>\n",
       "      <td>16:03:00</td>\n",
       "      <td>14:26:00</td>\n",
       "      <td>825</td>\n",
       "      <td>6</td>\n",
       "      <td>4950</td>\n",
       "    </tr>\n",
       "    <tr>\n",
       "      <th>fruit</th>\n",
       "      <td>21:16:00</td>\n",
       "      <td>17:27:00</td>\n",
       "      <td>19:16:00</td>\n",
       "      <td>21:23:00</td>\n",
       "      <td>23:02:00</td>\n",
       "      <td>1228</td>\n",
       "      <td>4</td>\n",
       "      <td>4912</td>\n",
       "    </tr>\n",
       "    <tr>\n",
       "      <th>spices</th>\n",
       "      <td>17:51:00</td>\n",
       "      <td>15:17:00</td>\n",
       "      <td>17:39:00</td>\n",
       "      <td>21:11:00</td>\n",
       "      <td>15:45:00</td>\n",
       "      <td>1052</td>\n",
       "      <td>3</td>\n",
       "      <td>3156</td>\n",
       "    </tr>\n",
       "  </tbody>\n",
       "</table>\n",
       "</div>"
      ],
      "text/plain": [
       "         timestamp                                      mean revenue  \\\n",
       "day              0        1        2        3        4                 \n",
       "location                                                               \n",
       "drinks    14:28:00 12:08:00 11:43:00 16:03:00 14:26:00   825       6   \n",
       "fruit     21:16:00 17:27:00 19:16:00 21:23:00 23:02:00  1228       4   \n",
       "spices    17:51:00 15:17:00 17:39:00 21:11:00 15:45:00  1052       3   \n",
       "\n",
       "         total_revenue  \n",
       "day                     \n",
       "location                \n",
       "drinks            4950  \n",
       "fruit             4912  \n",
       "spices            3156  "
      ]
     },
     "execution_count": 60,
     "metadata": {},
     "output_type": "execute_result"
    }
   ],
   "source": [
    "shopping_time3.tail(3)"
   ]
  },
  {
   "cell_type": "code",
   "execution_count": 61,
   "metadata": {},
   "outputs": [
    {
     "data": {
      "text/plain": [
       "[Text(0, 0.5, 'revenue per week [€]'), Text(0.5, 0, 'supermarket section')]"
      ]
     },
     "execution_count": 61,
     "metadata": {},
     "output_type": "execute_result"
    },
    {
     "data": {
      "image/png": "[encoded data removed]",
      "text/plain": [
       "<Figure size 864x576 with 1 Axes>"
      ]
     },
     "metadata": {},
     "output_type": "display_data"
    }
   ],
   "source": [
    "plt.figure(figsize=(12,8))\n",
    "sns.set(style='white')\n",
    "sns.set_palette('husl')\n",
    "ax = sns.barplot(x=shopping_time3.index, y=shopping_time3['total_revenue'], data=shopping_time3)\n",
    "ax.set(xlabel='supermarket section', ylabel='revenue per week [€]')"
   ]
  },
  {
   "cell_type": "markdown",
   "metadata": {},
   "source": [
    "## 6. Calculate the transition probability matrix:"
   ]
  },
  {
   "cell_type": "code",
   "execution_count": 65,
   "metadata": {},
   "outputs": [
    {
     "data": {
      "text/plain": [
       "(53903, 8)"
      ]
     },
     "execution_count": 65,
     "metadata": {},
     "output_type": "execute_result"
    }
   ],
   "source": [
    "df2.shape"
   ]
  },
  {
   "cell_type": "code",
   "execution_count": 397,
   "metadata": {},
   "outputs": [],
   "source": [
    "df3 = df2.fillna('Entrance')"
   ]
  },
  {
   "cell_type": "code",
   "execution_count": 393,
   "metadata": {},
   "outputs": [
    {
     "data": {
      "text/plain": [
       "dairy->dairy        13095\n",
       "fruit->fruit         7586\n",
       "drinks->drinks       5821\n",
       "Entrance->fruit      2810\n",
       "fruit->checkout      2555\n",
       "spices->spices       2524\n",
       "Entrance->dairy      2141\n",
       "drinks->checkout     2096\n",
       "dairy->checkout      1825\n",
       "Entrance->spices     1351\n",
       "fruit->dairy         1219\n",
       "spices->dairy        1213\n",
       "Entrance->drinks     1143\n",
       "dairy->drinks        1041\n",
       "spices->drinks       1024\n",
       "spices->checkout      941\n",
       "dairy->spices         913\n",
       "dairy->fruit          886\n",
       "drinks->fruit         855\n",
       "drinks->spices        846\n",
       "fruit->drinks         697\n",
       "fruit->spices         644\n",
       "spices->fruit         571\n",
       "drinks->dairy         106\n",
       "dtype: int64"
      ]
     },
     "execution_count": 393,
     "metadata": {},
     "output_type": "execute_result"
    }
   ],
   "source": [
    "(df3['before'] + '->' + df3['location']).value_counts()"
   ]
  },
  {
   "cell_type": "code",
   "execution_count": 399,
   "metadata": {},
   "outputs": [
    {
     "data": {
      "text/html": [
       "<div>\n",
       "<style scoped>\n",
       "    .dataframe tbody tr th:only-of-type {\n",
       "        vertical-align: middle;\n",
       "    }\n",
       "\n",
       "    .dataframe tbody tr th {\n",
       "        vertical-align: top;\n",
       "    }\n",
       "\n",
       "    .dataframe thead th {\n",
       "        text-align: right;\n",
       "    }\n",
       "</style>\n",
       "<table border=\"1\" class=\"dataframe\">\n",
       "  <thead>\n",
       "    <tr style=\"text-align: right;\">\n",
       "      <th>before</th>\n",
       "      <th>Entrance</th>\n",
       "      <th>dairy</th>\n",
       "      <th>drinks</th>\n",
       "      <th>fruit</th>\n",
       "      <th>spices</th>\n",
       "    </tr>\n",
       "    <tr>\n",
       "      <th>location</th>\n",
       "      <th></th>\n",
       "      <th></th>\n",
       "      <th></th>\n",
       "      <th></th>\n",
       "      <th></th>\n",
       "    </tr>\n",
       "  </thead>\n",
       "  <tbody>\n",
       "    <tr>\n",
       "      <th>checkout</th>\n",
       "      <td>0.000000</td>\n",
       "      <td>0.246056</td>\n",
       "      <td>0.282594</td>\n",
       "      <td>0.344479</td>\n",
       "      <td>0.126871</td>\n",
       "    </tr>\n",
       "    <tr>\n",
       "      <th>dairy</th>\n",
       "      <td>0.120457</td>\n",
       "      <td>0.736750</td>\n",
       "      <td>0.005964</td>\n",
       "      <td>0.068583</td>\n",
       "      <td>0.068246</td>\n",
       "    </tr>\n",
       "    <tr>\n",
       "      <th>drinks</th>\n",
       "      <td>0.117520</td>\n",
       "      <td>0.107033</td>\n",
       "      <td>0.598499</td>\n",
       "      <td>0.071664</td>\n",
       "      <td>0.105285</td>\n",
       "    </tr>\n",
       "    <tr>\n",
       "      <th>fruit</th>\n",
       "      <td>0.221121</td>\n",
       "      <td>0.069720</td>\n",
       "      <td>0.067280</td>\n",
       "      <td>0.596947</td>\n",
       "      <td>0.044932</td>\n",
       "    </tr>\n",
       "    <tr>\n",
       "      <th>spices</th>\n",
       "      <td>0.215196</td>\n",
       "      <td>0.145428</td>\n",
       "      <td>0.134756</td>\n",
       "      <td>0.102580</td>\n",
       "      <td>0.402039</td>\n",
       "    </tr>\n",
       "  </tbody>\n",
       "</table>\n",
       "</div>"
      ],
      "text/plain": [
       "before    Entrance     dairy    drinks     fruit    spices\n",
       "location                                                  \n",
       "checkout  0.000000  0.246056  0.282594  0.344479  0.126871\n",
       "dairy     0.120457  0.736750  0.005964  0.068583  0.068246\n",
       "drinks    0.117520  0.107033  0.598499  0.071664  0.105285\n",
       "fruit     0.221121  0.069720  0.067280  0.596947  0.044932\n",
       "spices    0.215196  0.145428  0.134756  0.102580  0.402039"
      ]
     },
     "execution_count": 399,
     "metadata": {},
     "output_type": "execute_result"
    }
   ],
   "source": [
    "P = pd.crosstab(df3['location'], df3[ 'before'], normalize = 0)\n",
    "P"
   ]
  },
  {
   "cell_type": "code",
   "execution_count": null,
   "metadata": {},
   "outputs": [],
   "source": []
  }
 ],
 "metadata": {
  "kernelspec": {
   "display_name": "Python 3",
   "language": "python",
   "name": "python3"
  },
  "language_info": {
   "codemirror_mode": {
    "name": "ipython",
    "version": 3
   },
   "file_extension": ".py",
   "mimetype": "text/x-python",
   "name": "python",
   "nbconvert_exporter": "python",
   "pygments_lexer": "ipython3",
   "version": "3.7.6"
  }
 },
 "nbformat": 4,
 "nbformat_minor": 4
}
